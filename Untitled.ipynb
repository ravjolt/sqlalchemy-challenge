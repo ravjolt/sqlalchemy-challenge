{
 "cells": [
  {
   "cell_type": "code",
   "execution_count": 1,
   "id": "92980520",
   "metadata": {},
   "outputs": [],
   "source": [
    "#import dependencies\n",
    "import os\n",
    "import numpy as np\n",
    "import sqlalchemy\n",
    "from sqlalchemy.ext.automap import automap_base\n",
    "from sqlalchemy.orm import Session\n",
    "from sqlalchemy import create_engine, func\n",
    "\n",
    "import datetime as dt\n",
    "from dateutil.relativedelta import relativedelta"
   ]
  },
  {
   "cell_type": "code",
   "execution_count": 5,
   "id": "df63811d",
   "metadata": {},
   "outputs": [],
   "source": [
    "#import flask\n",
    "from flask import Flask, jsonify, render_template\n",
    "from flask_sqlalchemy import SQLAlchemy"
   ]
  },
  {
   "cell_type": "code",
   "execution_count": 6,
   "id": "c5b66c7c",
   "metadata": {},
   "outputs": [],
   "source": [
    "#set up app and flask\n",
    "climateApp = Flask(__name__)"
   ]
  },
  {
   "cell_type": "code",
   "execution_count": 7,
   "id": "b3fd406b",
   "metadata": {},
   "outputs": [],
   "source": [
    "#create database\n",
    "engine = create_engine(\"sqlite:///hawaii.sqlite\")\n",
    "\n",
    "# reflect database and tables\n",
    "Base = automap_base()\n",
    "# Reflect the tables\n",
    "Base.prepare(engine, reflect=True)"
   ]
  },
  {
   "cell_type": "code",
   "execution_count": 8,
   "id": "16778b53",
   "metadata": {},
   "outputs": [],
   "source": [
    "# create reference to tables\n",
    "Measurement = Base.classes.measurement\n",
    "Station = Base.classes.station\n",
    "\n",
    "# create session and like python to database\n",
    "session = Session(engine)"
   ]
  },
  {
   "cell_type": "code",
   "execution_count": 9,
   "id": "f0ad7707",
   "metadata": {},
   "outputs": [],
   "source": [
    "#flask routes\n",
    "@climateApp.route(\"/\")\n",
    "def index():\n",
    "    return render_template(\"index.html\")\n",
    "\n",
    "@climateApp.route(\"/api/v1.0/precipitation\")\n",
    "def precipitation():\n",
    "\n",
    "    prcp_data = session.query(Measurement.date, Measurement.prcp).all()\n",
    "\n",
    "    # convert list of tuples into normal list\n",
    "    prcp_list = list(np.ravel(prcp_data))\n",
    "\n",
    "    # Create a dictionary from the row data and append to a list \n",
    "    dates = prcp_list[0::2]\n",
    "    prcp = prcp_list[1::2]   \n",
    "    prcp_dict = dict(zip(dates, prcp))\n",
    "\n",
    "    return jsonify(prcp_dict)"
   ]
  },
  {
   "cell_type": "code",
   "execution_count": 11,
   "id": "d27b540b",
   "metadata": {},
   "outputs": [],
   "source": [
    "@climateApp.route(\"/api/v1.0/stations\")\n",
    "def stations():\n",
    "   \n",
    "    # query all precipitation\n",
    "    station_data = session.query(Station.name).all()\n",
    "\n",
    "    # convert list of tuples into normal list\n",
    "    station_list = list(np.ravel(station_data))\n",
    "\n",
    "    return jsonify(station_list)"
   ]
  },
  {
   "cell_type": "code",
   "execution_count": 12,
   "id": "8c8b8afd",
   "metadata": {},
   "outputs": [
    {
     "name": "stdout",
     "output_type": "stream",
     "text": [
      " * Serving Flask app \"__main__\" (lazy loading)\n",
      " * Environment: production\n",
      "   WARNING: This is a development server. Do not use it in a production deployment.\n",
      "   Use a production WSGI server instead.\n",
      " * Debug mode: on\n"
     ]
    },
    {
     "name": "stderr",
     "output_type": "stream",
     "text": [
      " * Restarting with windowsapi reloader\n"
     ]
    },
    {
     "ename": "SystemExit",
     "evalue": "1",
     "output_type": "error",
     "traceback": [
      "An exception has occurred, use %tb to see the full traceback.\n",
      "\u001b[1;31mSystemExit\u001b[0m\u001b[1;31m:\u001b[0m 1\n"
     ]
    },
    {
     "name": "stderr",
     "output_type": "stream",
     "text": [
      "C:\\Users\\ravjo\\anaconda3\\lib\\site-packages\\IPython\\core\\interactiveshell.py:3445: UserWarning: To exit: use 'exit', 'quit', or Ctrl-D.\n",
      "  warn(\"To exit: use 'exit', 'quit', or Ctrl-D.\", stacklevel=1)\n"
     ]
    }
   ],
   "source": [
    "@climateApp.route(\"/api/v1.0/tobs\")\n",
    "def tobs():\n",
    "   \n",
    "    # query all tobs \n",
    "    tobs_data = session.query(Measurement.tobs).filter(Measurement.date.between('2016-08-23', '2017-08-23')).all()\n",
    "\n",
    "    # convert list of tuples into normal list\n",
    "    tobs_list = list(np.ravel(tobs_data))\n",
    "\n",
    "    return jsonify(tobs_list)\n",
    "\n",
    "\n",
    "@climateApp.route(\"/api/v1.0/<start>\")\n",
    "def tobs_start(start):\n",
    "\n",
    "\n",
    "    # query the database to get the maximum date\n",
    "    max_date_query = session.query(func.max(Measurement.date)).scalar()\n",
    "\n",
    "    # convert max_date to proper date format\n",
    "    max_date = dt.datetime.strptime(max_date_query, '%Y-%m-%d').date()\n",
    "\n",
    "    # query all tobs greater than and equal to start date\n",
    "    min_ave_max_tobs =  session.query(func.min(Measurement.tobs), func.avg(Measurement.tobs), func.max(Measurement.tobs)).\\\n",
    "        filter(Measurement.date >= start).\\\n",
    "        filter(Measurement.date <= max_date).all()\n",
    "\n",
    "    # convert list of tuples into normal list\n",
    "    min_ave_max_tobs_list = list(np.ravel(minAveMaxTobs))\n",
    "    \n",
    "    tmin = min_ave_max_tobs_list[0]\n",
    "    tave = min_ave_max_tobs_list[1]\n",
    "    tmax = min_ave_max_tobs_list[2]\n",
    "\n",
    "    return jsonify(tmin, tave, tmax)\n",
    "\n",
    "@climateApp.route(\"/api/v1.0/<start>/<end>\")\n",
    "def tobs_start_end(start, end):\n",
    " \n",
    "\n",
    "    # query all tobs between start date and end date inclusive\n",
    "    min_ave_max_tobs_end = session.query(func.min(Measurement.tobs), func.avg(Measurement.tobs), func.max(Measurement.tobs)).\\\n",
    "        filter(Measurement.date >= start).\\\n",
    "        filter(Measurement.date <= end).all()\n",
    "\n",
    "    # convert list of tuples into normal list\n",
    "    min_ave_max_tobs_end_list = list(np.ravel(min_ave_max_tobs))\n",
    "\n",
    "    tmin = min_ave_max_tobs_end_list[0]\n",
    "    tave = min_ave_max_tobs_end_list[1]\n",
    "    tmax = min_ave_max_tobs_end_list[2]\n",
    "\n",
    "    return jsonify(tmin, tave, tmax)\n",
    "\n",
    "if __name__ == '__main__':\n",
    "    climateApp.run(debug=True)"
   ]
  },
  {
   "cell_type": "code",
   "execution_count": null,
   "id": "e062d996",
   "metadata": {},
   "outputs": [],
   "source": []
  },
  {
   "cell_type": "code",
   "execution_count": null,
   "id": "33329f5c",
   "metadata": {},
   "outputs": [],
   "source": []
  },
  {
   "cell_type": "code",
   "execution_count": null,
   "id": "289f15d5",
   "metadata": {},
   "outputs": [],
   "source": []
  }
 ],
 "metadata": {
  "kernelspec": {
   "display_name": "Python 3",
   "language": "python",
   "name": "python3"
  },
  "language_info": {
   "codemirror_mode": {
    "name": "ipython",
    "version": 3
   },
   "file_extension": ".py",
   "mimetype": "text/x-python",
   "name": "python",
   "nbconvert_exporter": "python",
   "pygments_lexer": "ipython3",
   "version": "3.8.8"
  }
 },
 "nbformat": 4,
 "nbformat_minor": 5
}
